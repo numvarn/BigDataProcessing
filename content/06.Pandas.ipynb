{
 "cells": [
  {
   "cell_type": "code",
   "execution_count": 1,
   "metadata": {},
   "outputs": [],
   "source": [
    "# การใช้งาน Pandas เบื้องต้น\n",
    "'''\n",
    "1. เปิดไฟล์กึ่งโครงสร้าง CSV\n",
    "2. การดูรายละเอียดของไฟล์\n",
    "3. การบันทึกไฟล์\n",
    "'''\n",
    "\n",
    "import pandas as pd"
   ]
  },
  {
   "cell_type": "code",
   "execution_count": 3,
   "metadata": {},
   "outputs": [
    {
     "data": {
      "text/plain": [
       "'1.0.1'"
      ]
     },
     "execution_count": 3,
     "metadata": {},
     "output_type": "execute_result"
    }
   ],
   "source": [
    "pd.__version__"
   ]
  },
  {
   "cell_type": "code",
   "execution_count": 4,
   "metadata": {},
   "outputs": [],
   "source": [
    "# None Structure : Plain Text คือ ไฟล์เอกสารที่ไม่มีการจัดรูปแบบ (None Format) -- มีแต่ข้อความ *.txt\n",
    "# Semi-Structure : JSON, CSV\n",
    "# Structure : Database, Excel "
   ]
  },
  {
   "cell_type": "code",
   "execution_count": 5,
   "metadata": {},
   "outputs": [
    {
     "data": {
      "text/plain": [
       "'\\nRelational Database : \\n\\n'"
      ]
     },
     "execution_count": 5,
     "metadata": {},
     "output_type": "execute_result"
    }
   ],
   "source": [
    "'''\n",
    "Relational Database : \n",
    "NoSQL : \n",
    "\n",
    "student_table\n",
    "\n",
    "id : int\n",
    "std_code : varchar(255) - not null\n",
    "first_name : varchar(255) - not null\n",
    "last_name : varchar(255) - not null\n",
    "faculty : int - not null\n",
    "\n",
    "\n",
    "# NoSQL\n",
    "    -- Document base\n",
    "        -- stuents\n",
    "            -1 -- id, std_code, first_name, last_name\n",
    "            -2 -- id, first_name, last_name\n",
    "            -3 -- first_name, last_name, major\n",
    "            -4 -- id, first_name, last_name, imgs\n",
    "            \n",
    "            \n",
    "Pandas \n",
    " - การจัดการ Structure data\n",
    " - แปลงข้อมูลที่ไม่มีโครงสร้าง --> มีโครงสร้าง --> ใช้ Pandas จัดการ\n",
    " \n",
    "'''"
   ]
  },
  {
   "cell_type": "code",
   "execution_count": 6,
   "metadata": {},
   "outputs": [],
   "source": [
    "data = pd.read_csv(\"./data/ข้อมูลวัด.csv\")"
   ]
  },
  {
   "cell_type": "code",
   "execution_count": 9,
   "metadata": {},
   "outputs": [
    {
     "data": {
      "text/html": [
       "<div>\n",
       "<style scoped>\n",
       "    .dataframe tbody tr th:only-of-type {\n",
       "        vertical-align: middle;\n",
       "    }\n",
       "\n",
       "    .dataframe tbody tr th {\n",
       "        vertical-align: top;\n",
       "    }\n",
       "\n",
       "    .dataframe thead th {\n",
       "        text-align: right;\n",
       "    }\n",
       "</style>\n",
       "<table border=\"1\" class=\"dataframe\">\n",
       "  <thead>\n",
       "    <tr style=\"text-align: right;\">\n",
       "      <th></th>\n",
       "      <th>อันดับ</th>\n",
       "      <th>ชื่อ</th>\n",
       "      <th>Unnamed: 2</th>\n",
       "      <th>Unnamed: 3</th>\n",
       "      <th>พระเกจิ</th>\n",
       "      <th>Unnamed: 5</th>\n",
       "      <th>รายละเอียด</th>\n",
       "      <th>Unnamed: 7</th>\n",
       "      <th>Unnamed: 8</th>\n",
       "      <th>Unnamed: 9</th>\n",
       "      <th>Unnamed: 10</th>\n",
       "      <th>ละติจูด</th>\n",
       "      <th>ลองติจูด</th>\n",
       "    </tr>\n",
       "  </thead>\n",
       "  <tbody>\n",
       "    <tr>\n",
       "      <th>0</th>\n",
       "      <td>1</td>\n",
       "      <td>วัดสว่างอารมณ์</td>\n",
       "      <td>NaN</td>\n",
       "      <td>NaN</td>\n",
       "      <td>รอข้อมูล</td>\n",
       "      <td>NaN</td>\n",
       "      <td>ตำบล คูซอด อำเภอเมืองศรีสะเกษ ศรีสะเกษ 33000</td>\n",
       "      <td>NaN</td>\n",
       "      <td>NaN</td>\n",
       "      <td>NaN</td>\n",
       "      <td>NaN</td>\n",
       "      <td>15.191689</td>\n",
       "      <td>104.277227</td>\n",
       "    </tr>\n",
       "    <tr>\n",
       "      <th>1</th>\n",
       "      <td>2</td>\n",
       "      <td>วัดโนนแดง</td>\n",
       "      <td>NaN</td>\n",
       "      <td>NaN</td>\n",
       "      <td>รอข้อมูล</td>\n",
       "      <td>NaN</td>\n",
       "      <td>ตำบล หนองไผ่ อำเภอเมืองศรีสะเกษ ศรีสะเกษ 33000</td>\n",
       "      <td>NaN</td>\n",
       "      <td>NaN</td>\n",
       "      <td>NaN</td>\n",
       "      <td>NaN</td>\n",
       "      <td>15.124654</td>\n",
       "      <td>104.289223</td>\n",
       "    </tr>\n",
       "  </tbody>\n",
       "</table>\n",
       "</div>"
      ],
      "text/plain": [
       "   อันดับ             ชื่อ  Unnamed: 2  Unnamed: 3   พระเกจิ  Unnamed: 5  \\\n",
       "0       1  วัดสว่างอารมณ์          NaN         NaN  รอข้อมูล         NaN   \n",
       "1       2        วัดโนนแดง         NaN         NaN  รอข้อมูล         NaN   \n",
       "\n",
       "                                        รายละเอียด  Unnamed: 7  Unnamed: 8  \\\n",
       "0     ตำบล คูซอด อำเภอเมืองศรีสะเกษ ศรีสะเกษ 33000         NaN         NaN   \n",
       "1   ตำบล หนองไผ่ อำเภอเมืองศรีสะเกษ ศรีสะเกษ 33000         NaN         NaN   \n",
       "\n",
       "   Unnamed: 9  Unnamed: 10    ละติจูด    ลองติจูด  \n",
       "0         NaN          NaN  15.191689  104.277227  \n",
       "1         NaN          NaN  15.124654  104.289223  "
      ]
     },
     "execution_count": 9,
     "metadata": {},
     "output_type": "execute_result"
    }
   ],
   "source": [
    "# Data Frame Object\n",
    "data.head(2)"
   ]
  },
  {
   "cell_type": "code",
   "execution_count": 11,
   "metadata": {},
   "outputs": [
    {
     "data": {
      "text/html": [
       "<div>\n",
       "<style scoped>\n",
       "    .dataframe tbody tr th:only-of-type {\n",
       "        vertical-align: middle;\n",
       "    }\n",
       "\n",
       "    .dataframe tbody tr th {\n",
       "        vertical-align: top;\n",
       "    }\n",
       "\n",
       "    .dataframe thead th {\n",
       "        text-align: right;\n",
       "    }\n",
       "</style>\n",
       "<table border=\"1\" class=\"dataframe\">\n",
       "  <thead>\n",
       "    <tr style=\"text-align: right;\">\n",
       "      <th></th>\n",
       "      <th>อันดับ</th>\n",
       "      <th>ชื่อ</th>\n",
       "      <th>Unnamed: 2</th>\n",
       "      <th>Unnamed: 3</th>\n",
       "      <th>พระเกจิ</th>\n",
       "      <th>Unnamed: 5</th>\n",
       "      <th>รายละเอียด</th>\n",
       "      <th>Unnamed: 7</th>\n",
       "      <th>Unnamed: 8</th>\n",
       "      <th>Unnamed: 9</th>\n",
       "      <th>Unnamed: 10</th>\n",
       "      <th>ละติจูด</th>\n",
       "      <th>ลองติจูด</th>\n",
       "    </tr>\n",
       "  </thead>\n",
       "  <tbody>\n",
       "    <tr>\n",
       "      <th>48</th>\n",
       "      <td>49</td>\n",
       "      <td>วัดมหาพุทธาราม (วัดพระโต)</td>\n",
       "      <td>NaN</td>\n",
       "      <td>NaN</td>\n",
       "      <td>รอข้อมูล</td>\n",
       "      <td>NaN</td>\n",
       "      <td>วัดมหาพุทธาราม บ้านเมืองเหนือ อำเภอเมืองศรีสะเ...</td>\n",
       "      <td>NaN</td>\n",
       "      <td>NaN</td>\n",
       "      <td>NaN</td>\n",
       "      <td>NaN</td>\n",
       "      <td>15.117703</td>\n",
       "      <td>104.326558</td>\n",
       "    </tr>\n",
       "    <tr>\n",
       "      <th>49</th>\n",
       "      <td>50</td>\n",
       "      <td>วัดพระธาตุสุพรรณหงส์</td>\n",
       "      <td>NaN</td>\n",
       "      <td>NaN</td>\n",
       "      <td>รอข้อมูล</td>\n",
       "      <td>NaN</td>\n",
       "      <td>พระธาตุสุพรรณหงส์ บ้านหว้าน ต.น้ำคำ อ.เมือง จ....</td>\n",
       "      <td>NaN</td>\n",
       "      <td>NaN</td>\n",
       "      <td>NaN</td>\n",
       "      <td>NaN</td>\n",
       "      <td>15.194201</td>\n",
       "      <td>104.294009</td>\n",
       "    </tr>\n",
       "  </tbody>\n",
       "</table>\n",
       "</div>"
      ],
      "text/plain": [
       "    อันดับ                       ชื่อ  Unnamed: 2  Unnamed: 3   พระเกจิ  \\\n",
       "48      49  วัดมหาพุทธาราม (วัดพระโต)         NaN         NaN  รอข้อมูล   \n",
       "49      50       วัดพระธาตุสุพรรณหงส์         NaN         NaN  รอข้อมูล   \n",
       "\n",
       "    Unnamed: 5                                         รายละเอียด  Unnamed: 7  \\\n",
       "48         NaN  วัดมหาพุทธาราม บ้านเมืองเหนือ อำเภอเมืองศรีสะเ...         NaN   \n",
       "49         NaN  พระธาตุสุพรรณหงส์ บ้านหว้าน ต.น้ำคำ อ.เมือง จ....         NaN   \n",
       "\n",
       "    Unnamed: 8  Unnamed: 9  Unnamed: 10    ละติจูด    ลองติจูด  \n",
       "48         NaN         NaN          NaN  15.117703  104.326558  \n",
       "49         NaN         NaN          NaN  15.194201  104.294009  "
      ]
     },
     "execution_count": 11,
     "metadata": {},
     "output_type": "execute_result"
    }
   ],
   "source": [
    "data.tail(2)"
   ]
  },
  {
   "cell_type": "code",
   "execution_count": 12,
   "metadata": {},
   "outputs": [
    {
     "name": "stdout",
     "output_type": "stream",
     "text": [
      "<class 'pandas.core.frame.DataFrame'>\n",
      "RangeIndex: 50 entries, 0 to 49\n",
      "Data columns (total 13 columns):\n",
      " #   Column       Non-Null Count  Dtype  \n",
      "---  ------       --------------  -----  \n",
      " 0   อันดับ       50 non-null     int64  \n",
      " 1   ชื่อ         50 non-null     object \n",
      " 2   Unnamed: 2   0 non-null      float64\n",
      " 3   Unnamed: 3   0 non-null      float64\n",
      " 4   พระเกจิ      50 non-null     object \n",
      " 5   Unnamed: 5   0 non-null      float64\n",
      " 6   รายละเอียด   50 non-null     object \n",
      " 7   Unnamed: 7   0 non-null      float64\n",
      " 8   Unnamed: 8   0 non-null      float64\n",
      " 9   Unnamed: 9   0 non-null      float64\n",
      " 10  Unnamed: 10  0 non-null      float64\n",
      " 11  ละติจูด      50 non-null     float64\n",
      " 12  ลองติจูด     50 non-null     float64\n",
      "dtypes: float64(9), int64(1), object(3)\n",
      "memory usage: 5.2+ KB\n"
     ]
    }
   ],
   "source": [
    "data.info()"
   ]
  },
  {
   "cell_type": "code",
   "execution_count": 13,
   "metadata": {},
   "outputs": [],
   "source": [
    "new_data = data[[\"อันดับ\", \"ชื่อ\", \"พระเกจิ\", \"รายละเอียด\", \"ละติจูด\", \"ลองติจูด\"]]"
   ]
  },
  {
   "cell_type": "code",
   "execution_count": 14,
   "metadata": {},
   "outputs": [
    {
     "data": {
      "text/html": [
       "<div>\n",
       "<style scoped>\n",
       "    .dataframe tbody tr th:only-of-type {\n",
       "        vertical-align: middle;\n",
       "    }\n",
       "\n",
       "    .dataframe tbody tr th {\n",
       "        vertical-align: top;\n",
       "    }\n",
       "\n",
       "    .dataframe thead th {\n",
       "        text-align: right;\n",
       "    }\n",
       "</style>\n",
       "<table border=\"1\" class=\"dataframe\">\n",
       "  <thead>\n",
       "    <tr style=\"text-align: right;\">\n",
       "      <th></th>\n",
       "      <th>อันดับ</th>\n",
       "      <th>ชื่อ</th>\n",
       "      <th>พระเกจิ</th>\n",
       "      <th>รายละเอียด</th>\n",
       "      <th>ละติจูด</th>\n",
       "      <th>ลองติจูด</th>\n",
       "    </tr>\n",
       "  </thead>\n",
       "  <tbody>\n",
       "    <tr>\n",
       "      <th>0</th>\n",
       "      <td>1</td>\n",
       "      <td>วัดสว่างอารมณ์</td>\n",
       "      <td>รอข้อมูล</td>\n",
       "      <td>ตำบล คูซอด อำเภอเมืองศรีสะเกษ ศรีสะเกษ 33000</td>\n",
       "      <td>15.191689</td>\n",
       "      <td>104.277227</td>\n",
       "    </tr>\n",
       "    <tr>\n",
       "      <th>1</th>\n",
       "      <td>2</td>\n",
       "      <td>วัดโนนแดง</td>\n",
       "      <td>รอข้อมูล</td>\n",
       "      <td>ตำบล หนองไผ่ อำเภอเมืองศรีสะเกษ ศรีสะเกษ 33000</td>\n",
       "      <td>15.124654</td>\n",
       "      <td>104.289223</td>\n",
       "    </tr>\n",
       "    <tr>\n",
       "      <th>2</th>\n",
       "      <td>3</td>\n",
       "      <td>วัดยางชุมใหญ่</td>\n",
       "      <td>รอข้อมูล</td>\n",
       "      <td>หมู่ 1, ตําบลยางชุมใหญ่ อําเภอยางชุมน้อย จังห...</td>\n",
       "      <td>15.221466</td>\n",
       "      <td>104.408265</td>\n",
       "    </tr>\n",
       "    <tr>\n",
       "      <th>3</th>\n",
       "      <td>4</td>\n",
       "      <td>วัดบ้านบัวน้อย</td>\n",
       "      <td>รอข้อมูล</td>\n",
       "      <td>ต.บัวน้อย อ.กันทรารมย์ จ.ศรีสะเกษ 33130</td>\n",
       "      <td>15.157435</td>\n",
       "      <td>104.491364</td>\n",
       "    </tr>\n",
       "    <tr>\n",
       "      <th>4</th>\n",
       "      <td>5</td>\n",
       "      <td>วัดบ้านกระแชงใหญ่</td>\n",
       "      <td>รอข้อมูล</td>\n",
       "      <td>เป็นวัดประจำหมู่บ้าน เจ้าอาวาสเป็นเจ้าคณะตำบล ...</td>\n",
       "      <td>14.658167</td>\n",
       "      <td>104.584000</td>\n",
       "    </tr>\n",
       "  </tbody>\n",
       "</table>\n",
       "</div>"
      ],
      "text/plain": [
       "   อันดับ               ชื่อ   พระเกจิ  \\\n",
       "0       1    วัดสว่างอารมณ์   รอข้อมูล   \n",
       "1       2          วัดโนนแดง  รอข้อมูล   \n",
       "2       3      วัดยางชุมใหญ่  รอข้อมูล   \n",
       "3       4     วัดบ้านบัวน้อย  รอข้อมูล   \n",
       "4       5  วัดบ้านกระแชงใหญ่  รอข้อมูล   \n",
       "\n",
       "                                          รายละเอียด    ละติจูด    ลองติจูด  \n",
       "0       ตำบล คูซอด อำเภอเมืองศรีสะเกษ ศรีสะเกษ 33000  15.191689  104.277227  \n",
       "1     ตำบล หนองไผ่ อำเภอเมืองศรีสะเกษ ศรีสะเกษ 33000  15.124654  104.289223  \n",
       "2   หมู่ 1, ตําบลยางชุมใหญ่ อําเภอยางชุมน้อย จังห...  15.221466  104.408265  \n",
       "3            ต.บัวน้อย อ.กันทรารมย์ จ.ศรีสะเกษ 33130  15.157435  104.491364  \n",
       "4  เป็นวัดประจำหมู่บ้าน เจ้าอาวาสเป็นเจ้าคณะตำบล ...  14.658167  104.584000  "
      ]
     },
     "execution_count": 14,
     "metadata": {},
     "output_type": "execute_result"
    }
   ],
   "source": [
    "new_data.head()"
   ]
  },
  {
   "cell_type": "code",
   "execution_count": 15,
   "metadata": {},
   "outputs": [
    {
     "name": "stdout",
     "output_type": "stream",
     "text": [
      "<class 'pandas.core.frame.DataFrame'>\n",
      "RangeIndex: 50 entries, 0 to 49\n",
      "Data columns (total 6 columns):\n",
      " #   Column      Non-Null Count  Dtype  \n",
      "---  ------      --------------  -----  \n",
      " 0   อันดับ      50 non-null     int64  \n",
      " 1   ชื่อ        50 non-null     object \n",
      " 2   พระเกจิ     50 non-null     object \n",
      " 3   รายละเอียด  50 non-null     object \n",
      " 4   ละติจูด     50 non-null     float64\n",
      " 5   ลองติจูด    50 non-null     float64\n",
      "dtypes: float64(2), int64(1), object(3)\n",
      "memory usage: 2.5+ KB\n"
     ]
    }
   ],
   "source": [
    "new_data.info()"
   ]
  },
  {
   "cell_type": "code",
   "execution_count": 17,
   "metadata": {},
   "outputs": [],
   "source": [
    "new_data.to_csv(\"./data/ข้อมูลวัดใหม่.csv\")"
   ]
  },
  {
   "cell_type": "code",
   "execution_count": 18,
   "metadata": {},
   "outputs": [],
   "source": [
    "new_data.to_excel(\"./data/ข้อมูลวัดใหม่.xlsx\")"
   ]
  },
  {
   "cell_type": "code",
   "execution_count": 28,
   "metadata": {},
   "outputs": [
    {
     "data": {
      "text/html": [
       "<div>\n",
       "<style scoped>\n",
       "    .dataframe tbody tr th:only-of-type {\n",
       "        vertical-align: middle;\n",
       "    }\n",
       "\n",
       "    .dataframe tbody tr th {\n",
       "        vertical-align: top;\n",
       "    }\n",
       "\n",
       "    .dataframe thead th {\n",
       "        text-align: right;\n",
       "    }\n",
       "</style>\n",
       "<table border=\"1\" class=\"dataframe\">\n",
       "  <thead>\n",
       "    <tr style=\"text-align: right;\">\n",
       "      <th></th>\n",
       "      <th>ละติจูด</th>\n",
       "      <th>ลองติจูด</th>\n",
       "    </tr>\n",
       "  </thead>\n",
       "  <tbody>\n",
       "    <tr>\n",
       "      <th>0</th>\n",
       "      <td>15.191689</td>\n",
       "      <td>104.277227</td>\n",
       "    </tr>\n",
       "    <tr>\n",
       "      <th>1</th>\n",
       "      <td>15.124654</td>\n",
       "      <td>104.289223</td>\n",
       "    </tr>\n",
       "    <tr>\n",
       "      <th>2</th>\n",
       "      <td>15.221466</td>\n",
       "      <td>104.408265</td>\n",
       "    </tr>\n",
       "    <tr>\n",
       "      <th>3</th>\n",
       "      <td>15.157435</td>\n",
       "      <td>104.491364</td>\n",
       "    </tr>\n",
       "    <tr>\n",
       "      <th>4</th>\n",
       "      <td>14.658167</td>\n",
       "      <td>104.584000</td>\n",
       "    </tr>\n",
       "  </tbody>\n",
       "</table>\n",
       "</div>"
      ],
      "text/plain": [
       "     ละติจูด    ลองติจูด\n",
       "0  15.191689  104.277227\n",
       "1  15.124654  104.289223\n",
       "2  15.221466  104.408265\n",
       "3  15.157435  104.491364\n",
       "4  14.658167  104.584000"
      ]
     },
     "execution_count": 28,
     "metadata": {},
     "output_type": "execute_result"
    }
   ],
   "source": [
    "new_data[[\"ละติจูด\", \"ลองติจูด\"]].head()"
   ]
  },
  {
   "cell_type": "code",
   "execution_count": 29,
   "metadata": {},
   "outputs": [],
   "source": [
    "# การสร้าง Data Frame จากชุดข้อมูล\n",
    "\n",
    "# ข้อมูลบุคคล 3 คน\n",
    "# นายพิศาล สุขขี 0842982456\n",
    "# นายปรเมษฐ สุขตะ 0889152456\n",
    "# นายสมชาย รักดี 0886123546\n",
    "\n",
    "persons = {\n",
    "    \"ชื่อ\": [\"พิศาล\", \"ปรเมษฐ\", \"สมชาย\"],\n",
    "    \"สกุล\": [\"สุขขี\", \"สุขะตะ\", \"รักดี\"],\n",
    "    \"โทร\": [\"0842982456\", \"0889152456\", \"0886123546\"]\n",
    "}"
   ]
  },
  {
   "cell_type": "code",
   "execution_count": 33,
   "metadata": {},
   "outputs": [
    {
     "data": {
      "text/html": [
       "<div>\n",
       "<style scoped>\n",
       "    .dataframe tbody tr th:only-of-type {\n",
       "        vertical-align: middle;\n",
       "    }\n",
       "\n",
       "    .dataframe tbody tr th {\n",
       "        vertical-align: top;\n",
       "    }\n",
       "\n",
       "    .dataframe thead th {\n",
       "        text-align: right;\n",
       "    }\n",
       "</style>\n",
       "<table border=\"1\" class=\"dataframe\">\n",
       "  <thead>\n",
       "    <tr style=\"text-align: right;\">\n",
       "      <th></th>\n",
       "      <th>ชื่อ</th>\n",
       "      <th>สกุล</th>\n",
       "      <th>โทร</th>\n",
       "    </tr>\n",
       "  </thead>\n",
       "  <tbody>\n",
       "    <tr>\n",
       "      <th>0</th>\n",
       "      <td>พิศาล</td>\n",
       "      <td>สุขขี</td>\n",
       "      <td>0842982456</td>\n",
       "    </tr>\n",
       "    <tr>\n",
       "      <th>1</th>\n",
       "      <td>ปรเมษฐ</td>\n",
       "      <td>สุขะตะ</td>\n",
       "      <td>0889152456</td>\n",
       "    </tr>\n",
       "    <tr>\n",
       "      <th>2</th>\n",
       "      <td>สมชาย</td>\n",
       "      <td>รักดี</td>\n",
       "      <td>0886123546</td>\n",
       "    </tr>\n",
       "  </tbody>\n",
       "</table>\n",
       "</div>"
      ],
      "text/plain": [
       "     ชื่อ    สกุล         โทร\n",
       "0   พิศาล   สุขขี  0842982456\n",
       "1  ปรเมษฐ  สุขะตะ  0889152456\n",
       "2   สมชาย   รักดี  0886123546"
      ]
     },
     "execution_count": 33,
     "metadata": {},
     "output_type": "execute_result"
    }
   ],
   "source": [
    "data = pd.DataFrame(persons)\n",
    "data.head()"
   ]
  },
  {
   "cell_type": "code",
   "execution_count": 34,
   "metadata": {},
   "outputs": [
    {
     "data": {
      "text/html": [
       "<div>\n",
       "<style scoped>\n",
       "    .dataframe tbody tr th:only-of-type {\n",
       "        vertical-align: middle;\n",
       "    }\n",
       "\n",
       "    .dataframe tbody tr th {\n",
       "        vertical-align: top;\n",
       "    }\n",
       "\n",
       "    .dataframe thead th {\n",
       "        text-align: right;\n",
       "    }\n",
       "</style>\n",
       "<table border=\"1\" class=\"dataframe\">\n",
       "  <thead>\n",
       "    <tr style=\"text-align: right;\">\n",
       "      <th></th>\n",
       "      <th>โทร</th>\n",
       "    </tr>\n",
       "  </thead>\n",
       "  <tbody>\n",
       "    <tr>\n",
       "      <th>0</th>\n",
       "      <td>0842982456</td>\n",
       "    </tr>\n",
       "    <tr>\n",
       "      <th>1</th>\n",
       "      <td>0889152456</td>\n",
       "    </tr>\n",
       "    <tr>\n",
       "      <th>2</th>\n",
       "      <td>0886123546</td>\n",
       "    </tr>\n",
       "  </tbody>\n",
       "</table>\n",
       "</div>"
      ],
      "text/plain": [
       "          โทร\n",
       "0  0842982456\n",
       "1  0889152456\n",
       "2  0886123546"
      ]
     },
     "execution_count": 34,
     "metadata": {},
     "output_type": "execute_result"
    }
   ],
   "source": [
    "data[[\"โทร\"]]"
   ]
  },
  {
   "cell_type": "code",
   "execution_count": 35,
   "metadata": {},
   "outputs": [
    {
     "data": {
      "text/html": [
       "<div>\n",
       "<style scoped>\n",
       "    .dataframe tbody tr th:only-of-type {\n",
       "        vertical-align: middle;\n",
       "    }\n",
       "\n",
       "    .dataframe tbody tr th {\n",
       "        vertical-align: top;\n",
       "    }\n",
       "\n",
       "    .dataframe thead th {\n",
       "        text-align: right;\n",
       "    }\n",
       "</style>\n",
       "<table border=\"1\" class=\"dataframe\">\n",
       "  <thead>\n",
       "    <tr style=\"text-align: right;\">\n",
       "      <th></th>\n",
       "      <th>ชื่อ</th>\n",
       "      <th>สกุล</th>\n",
       "      <th>โทร</th>\n",
       "    </tr>\n",
       "  </thead>\n",
       "  <tbody>\n",
       "    <tr>\n",
       "      <th>0</th>\n",
       "      <td>พิศาล</td>\n",
       "      <td>สุขขี</td>\n",
       "      <td>0842982456</td>\n",
       "    </tr>\n",
       "    <tr>\n",
       "      <th>1</th>\n",
       "      <td>ปรเมษฐ</td>\n",
       "      <td>สุขะตะ</td>\n",
       "      <td>0889152456</td>\n",
       "    </tr>\n",
       "    <tr>\n",
       "      <th>2</th>\n",
       "      <td>สมชาย</td>\n",
       "      <td>รักดี</td>\n",
       "      <td>0886123546</td>\n",
       "    </tr>\n",
       "  </tbody>\n",
       "</table>\n",
       "</div>"
      ],
      "text/plain": [
       "     ชื่อ    สกุล         โทร\n",
       "0   พิศาล   สุขขี  0842982456\n",
       "1  ปรเมษฐ  สุขะตะ  0889152456\n",
       "2   สมชาย   รักดี  0886123546"
      ]
     },
     "execution_count": 35,
     "metadata": {},
     "output_type": "execute_result"
    }
   ],
   "source": [
    "data"
   ]
  },
  {
   "cell_type": "code",
   "execution_count": 41,
   "metadata": {},
   "outputs": [
    {
     "data": {
      "text/plain": [
       "'0886123546'"
      ]
     },
     "execution_count": 41,
     "metadata": {},
     "output_type": "execute_result"
    }
   ],
   "source": [
    "# ในกรณีที่เรารู้ index\n",
    "data.iloc[2]['โทร']"
   ]
  },
  {
   "cell_type": "code",
   "execution_count": 61,
   "metadata": {},
   "outputs": [],
   "source": [
    "# ในกรณีที่เราไม่รู้ index\n",
    "tel = data[data[\"ชื่อ\"]=='ปรเมษฐ']"
   ]
  },
  {
   "cell_type": "code",
   "execution_count": 62,
   "metadata": {},
   "outputs": [
    {
     "data": {
      "text/html": [
       "<div>\n",
       "<style scoped>\n",
       "    .dataframe tbody tr th:only-of-type {\n",
       "        vertical-align: middle;\n",
       "    }\n",
       "\n",
       "    .dataframe tbody tr th {\n",
       "        vertical-align: top;\n",
       "    }\n",
       "\n",
       "    .dataframe thead th {\n",
       "        text-align: right;\n",
       "    }\n",
       "</style>\n",
       "<table border=\"1\" class=\"dataframe\">\n",
       "  <thead>\n",
       "    <tr style=\"text-align: right;\">\n",
       "      <th></th>\n",
       "      <th>ชื่อ</th>\n",
       "      <th>สกุล</th>\n",
       "      <th>โทร</th>\n",
       "    </tr>\n",
       "  </thead>\n",
       "  <tbody>\n",
       "    <tr>\n",
       "      <th>1</th>\n",
       "      <td>ปรเมษฐ</td>\n",
       "      <td>สุขะตะ</td>\n",
       "      <td>0889152456</td>\n",
       "    </tr>\n",
       "  </tbody>\n",
       "</table>\n",
       "</div>"
      ],
      "text/plain": [
       "     ชื่อ    สกุล         โทร\n",
       "1  ปรเมษฐ  สุขะตะ  0889152456"
      ]
     },
     "execution_count": 62,
     "metadata": {},
     "output_type": "execute_result"
    }
   ],
   "source": [
    "tel"
   ]
  },
  {
   "cell_type": "code",
   "execution_count": null,
   "metadata": {},
   "outputs": [
    {
     "name": "stdin",
     "output_type": "stream",
     "text": [
      "Enter data :  d\n"
     ]
    },
    {
     "name": "stdout",
     "output_type": "stream",
     "text": [
      "Queue is empty\n"
     ]
    },
    {
     "name": "stdin",
     "output_type": "stream",
     "text": [
      "Enter data :  1\n",
      "Enter data :  2\n",
      "Enter data :  3\n",
      "Enter data :  4\n",
      "Enter data :  d\n"
     ]
    },
    {
     "name": "stdout",
     "output_type": "stream",
     "text": [
      "1\n"
     ]
    },
    {
     "name": "stdin",
     "output_type": "stream",
     "text": [
      "Enter data :  d\n"
     ]
    },
    {
     "name": "stdout",
     "output_type": "stream",
     "text": [
      "2\n"
     ]
    },
    {
     "name": "stdin",
     "output_type": "stream",
     "text": [
      "Enter data :  d\n"
     ]
    },
    {
     "name": "stdout",
     "output_type": "stream",
     "text": [
      "3\n"
     ]
    },
    {
     "name": "stdin",
     "output_type": "stream",
     "text": [
      "Enter data :  d\n"
     ]
    },
    {
     "name": "stdout",
     "output_type": "stream",
     "text": [
      "4\n"
     ]
    },
    {
     "name": "stdin",
     "output_type": "stream",
     "text": [
      "Enter data :  d\n"
     ]
    },
    {
     "name": "stdout",
     "output_type": "stream",
     "text": [
      "Queue is empty\n"
     ]
    },
    {
     "name": "stdin",
     "output_type": "stream",
     "text": [
      "Enter data :  d\n"
     ]
    },
    {
     "name": "stdout",
     "output_type": "stream",
     "text": [
      "Queue is empty\n"
     ]
    },
    {
     "name": "stdin",
     "output_type": "stream",
     "text": [
      "Enter data :  1\n",
      "Enter data :  2\n",
      "Enter data :  d\n"
     ]
    },
    {
     "name": "stdout",
     "output_type": "stream",
     "text": [
      "1\n"
     ]
    },
    {
     "name": "stdin",
     "output_type": "stream",
     "text": [
      "Enter data :  d\n"
     ]
    },
    {
     "name": "stdout",
     "output_type": "stream",
     "text": [
      "2\n"
     ]
    },
    {
     "name": "stdin",
     "output_type": "stream",
     "text": [
      "Enter data :  d\n"
     ]
    },
    {
     "name": "stdout",
     "output_type": "stream",
     "text": [
      "Queue is empty\n"
     ]
    }
   ],
   "source": [
    "# คิว\n",
    "'''\n",
    "รับข้อมูลจากผู้ใช้ผ่านคีย์บอร์ด\n",
    "ถ้าผู้ใช้ป้อนข้อมูลใด ๆ ให้นำข้อมูลนั้นมาเก็บไว้ในคิว\n",
    "แต่ถ้าป้อนตัว d : ให้นำข้อมูลตัวแรกออกจาคิว\n",
    "ถ้าป้อนตัว x: ให้โปรแกรมหยุดทำงาน\n",
    "'''\n",
    "\n",
    "q = []\n",
    "data = input(\"Enter data : \")\n",
    "while data != \"x\":\n",
    "    if data != \"d\":\n",
    "        q.insert(0, data)\n",
    "    else:\n",
    "        if q == []:\n",
    "            print(\"Queue is empty\")\n",
    "        else:\n",
    "            print(q.pop())\n",
    "        \n",
    "    data = input(\"Enter data : \")\n"
   ]
  },
  {
   "cell_type": "code",
   "execution_count": null,
   "metadata": {},
   "outputs": [],
   "source": []
  }
 ],
 "metadata": {
  "kernelspec": {
   "display_name": "Python 3",
   "language": "python",
   "name": "python3"
  },
  "language_info": {
   "codemirror_mode": {
    "name": "ipython",
    "version": 3
   },
   "file_extension": ".py",
   "mimetype": "text/x-python",
   "name": "python",
   "nbconvert_exporter": "python",
   "pygments_lexer": "ipython3",
   "version": "3.7.6"
  }
 },
 "nbformat": 4,
 "nbformat_minor": 4
}
