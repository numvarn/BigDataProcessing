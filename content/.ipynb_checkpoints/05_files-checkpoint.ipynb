{
 "cells": [
  {
   "cell_type": "markdown",
   "metadata": {},
   "source": [
    "# การจัดการไฟล์ (File Management)"
   ]
  },
  {
   "cell_type": "markdown",
   "metadata": {},
   "source": [
    "### การเปิดไฟล์\n",
    "\n",
    "สิ่งแรกที่ผู้เขียนจะต้องเรียนรู้เกี่ยวกับการจัดการแฟ้มข้อมูลด้วยภาษาไพธอน คือการเปิดไฟล์ด้วยคำสั่ง open และการกำหนดโหมดของการเปิดไฟล์ด้วยการกำหนดโหมดอาร์กิวเมนต์ให้กับคำสั่ง open โดยมีรายละเอียดดังต่อไปนี้"
   ]
  },
  {
   "cell_type": "markdown",
   "metadata": {},
   "source": [
    "#### คำสั่ง open\n",
    "\n",
    "เราสามารถเปิดไฟล์ด้วยฟังก์ชัน open() ฟังก์ชัน open() มีอาร์กิวเมนต์ที่จำเป็นต้องส่งให้แก่ฟังก์ชันคือ พาธที่ใช้อ้างอิงไปยังไฟล์ที่ (Hetland, 2005) ต้องการเปิด และมีอาร์กิวเมนต์ทางเลือกที่จะใส่หรือไม่ก็ได้คือ โหมดในการเปิดไฟล์ (mode)  เมื่อฟังก์ชัน open() ดำเนินการ   เปิดไฟล์เสร็จแล้วจะทำการส่งคืนผลลัพธ์เป็นไฟล์อ็อบเจ็กต์ โดยการใช้งานฟังก์ชัน open()"
   ]
  },
  {
   "cell_type": "code",
   "execution_count": 2,
   "metadata": {},
   "outputs": [
    {
     "data": {
      "text/plain": [
       "'Hello, World!\\nPhisan Sookkhee'"
      ]
     },
     "execution_count": 2,
     "metadata": {},
     "output_type": "execute_result"
    }
   ],
   "source": [
    "# Physical Path\n",
    "# /Users/phisan/Programming/Notebooks/BigDataProcessing/content/data/somefile.txt \n",
    "\n",
    "# Relative Path\n",
    "# ./data/somefile.txt \n",
    "\n",
    "# f คือ ไฟล์ออปเจ็กต์\n",
    "f = open('./data/somefile.txt')\n",
    "f.read()"
   ]
  },
  {
   "cell_type": "markdown",
   "metadata": {},
   "source": [
    "#### โหมดอาร์กิวเมนต์ \n",
    "\n",
    "หากเราใช้ open() และใช้พาธของไฟล์เป็นอาร์กิวเมนต์เพียงตัวเดียว เราจะได้รับ      ไฟล์อ็อบเจ็กต์ (File Object) ที่เราสามารถดำเนินการอ่านได้เพียงอย่างเดียว แต่ถ้าเราต้องการเขียนข้อมูลไปยังไฟล์ เราจะต้องระบุให้ฟังก์ชัน open() ทราบด้วยว่าเราต้องการเปิดไฟล์สำหรับการเขียนข้อมูลด้วย โดยอาร์กิวเมนต์โหมดสำหรับฟังก์ชัน open() มีหลายค่าได้ดังที่สรุปไว้ในตารางที่ดังนี้"
   ]
  },
  {
   "cell_type": "markdown",
   "metadata": {},
   "source": [
    "![mode](./img/files/mode.png)"
   ]
  },
  {
   "cell_type": "code",
   "execution_count": 6,
   "metadata": {},
   "outputs": [],
   "source": [
    "'''\n",
    "ตัวอย่างการเปิดไฟล์เพื่อเขียน\n",
    "'''\n",
    "f = open('./data/somefile.txt', 'a')  \n",
    "\n",
    "f.write('Hello, ')  \n",
    "f.write('World!')  \n",
    "f.close()  "
   ]
  },
  {
   "cell_type": "code",
   "execution_count": 7,
   "metadata": {},
   "outputs": [],
   "source": [
    "f = open('./data/somefile.txt')"
   ]
  },
  {
   "cell_type": "code",
   "execution_count": 8,
   "metadata": {},
   "outputs": [
    {
     "data": {
      "text/plain": [
       "'Hello, World!'"
      ]
     },
     "execution_count": 8,
     "metadata": {},
     "output_type": "execute_result"
    }
   ],
   "source": [
    "f.read()"
   ]
  },
  {
   "cell_type": "code",
   "execution_count": 8,
   "metadata": {},
   "outputs": [
    {
     "data": {
      "text/plain": [
       "'This'"
      ]
     },
     "execution_count": 8,
     "metadata": {},
     "output_type": "execute_result"
    }
   ],
   "source": [
    "f = open('./data/somefile_line.txt', 'r')  \n",
    "f.read(4)  "
   ]
  },
  {
   "cell_type": "code",
   "execution_count": 9,
   "metadata": {},
   "outputs": [
    {
     "data": {
      "text/plain": [
       "'Hello, World!'"
      ]
     },
     "execution_count": 9,
     "metadata": {},
     "output_type": "execute_result"
    }
   ],
   "source": [
    "f = open('./data/somefile.txt', 'r')  \n",
    "f.read() "
   ]
  },
  {
   "cell_type": "markdown",
   "metadata": {},
   "source": [
    "#### คำสั่ง with\n",
    "คำสั่ง with เป็นคำสั่งในภาษาไพธอนที่ถูกนำมาใช้สำหรับควบคุมการดำเนินการในรูปแบบ ที่ต้องมีการดำเนินการที่ทำควบคู่กันเสมอ ซึ่งคำสั่ง with จะเป็นการสร้างบล็อกการดำเนินการขึ้นภายใต้คำสั่ง with และด้วยคำสั่ง with ทำให้เราสามารถจัดการไวยากรณ์ และการจัดการข้อผิดพลาด (Exception) ที่อาจเกิดขึ้นจากกระบวนการทำงานที่มีรูปแบบที่ดีขึ้น และนอกจากนี้    ยังมีระบบการปิดไฟล์โดยอัตโนมัติ ซึ่งจะทำให้แน่ใจได้เสมอว่าจะไม่เกิดความเสียหายใด ๆ เกิดขึ้นจากการปฏิบัติงาน ดังนั้นในการเขียนโปรแกรมภาษาไพธอนเพื่อจัดการกับแฟ้มข้อมูลในปัจจุบัน    จึงนิยมนำคำสั่ง with  เข้ามาควบคุมการจัดการแฟ้มข้อมูลด้วยเสมอ"
   ]
  },
  {
   "cell_type": "code",
   "execution_count": 10,
   "metadata": {},
   "outputs": [
    {
     "name": "stdout",
     "output_type": "stream",
     "text": [
      "Line 1: 3.1415926535\n",
      "Line 2: 8979323846\n",
      "Line 3: 2643383279\n"
     ]
    }
   ],
   "source": [
    "with open('./data/pi_digit.txt') as fp:  \n",
    "    line = fp.readline()\n",
    "    cnt = 1\n",
    "    while line:\n",
    "        print(\"Line {}: {}\".format(cnt, line.strip()))\n",
    "        line = fp.readline()\n",
    "        cnt += 1"
   ]
  },
  {
   "cell_type": "code",
   "execution_count": 11,
   "metadata": {},
   "outputs": [
    {
     "name": "stdout",
     "output_type": "stream",
     "text": [
      "Line 1: 3.1415926535\n",
      "Line 2: 8979323846\n",
      "Line 3: 2643383279\n"
     ]
    }
   ],
   "source": [
    "with open('./data/pi_digit.txt') as fp:  \n",
    "    cnt = 1\n",
    "    for line in fp:\n",
    "        print(\"Line {}: {}\".format(cnt, line.strip()))\n",
    "        cnt += 1"
   ]
  },
  {
   "cell_type": "code",
   "execution_count": 12,
   "metadata": {},
   "outputs": [
    {
     "name": "stdout",
     "output_type": "stream",
     "text": [
      "This is 1st line\n",
      "This is 2nd line\n",
      "This is 3rd line\n",
      "This is 4th line\n",
      "This is 5th line\n"
     ]
    }
   ],
   "source": [
    "data = [\"This is 1st line\",\n",
    "        \"This is 2nd line\",\n",
    "        \"This is 3rd line\",\n",
    "        \"This is 4th line\",\n",
    "        \"This is 5th line\"]\n",
    "\n",
    "with open('./data/somfile.txt', 'w') as fp:\n",
    "    for line in data:\n",
    "        fp.write(line+\"\\n\")\n",
    "        \n",
    "with open('./data/somfile.txt', 'r') as fp:  \n",
    "    line = fp.readline()\n",
    "    while line:\n",
    "        print(\"{}\".format(line.strip()))\n",
    "        line = fp.readline()"
   ]
  },
  {
   "cell_type": "markdown",
   "metadata": {},
   "source": [
    "### การอ่านและเขียนไฟล์ทีละบรรทัด"
   ]
  },
  {
   "cell_type": "code",
   "execution_count": 8,
   "metadata": {},
   "outputs": [
    {
     "name": "stdout",
     "output_type": "stream",
     "text": [
      "Line 1: 3.1415926535\n",
      "Line 2: 8979323846\n",
      "Line 3: 2643383279\n"
     ]
    }
   ],
   "source": [
    "with open('./data/pi_digit.txt', 'r') as fp:    \n",
    "    line = fp.readline()  \n",
    "    cnt = 1  \n",
    "    while line:  \n",
    "        print(\"Line {}: {}\".format(cnt, line.strip()))  \n",
    "        line = fp.readline()  \n",
    "        cnt += 1  \n"
   ]
  },
  {
   "cell_type": "markdown",
   "metadata": {},
   "source": [
    "### พาธและไดเรกทอรี"
   ]
  },
  {
   "cell_type": "code",
   "execution_count": 9,
   "metadata": {},
   "outputs": [],
   "source": [
    "import os\n",
    "def print_dir(dir_path):\n",
    "    for name in os.listdir(dir_path):\n",
    "        print(os.path.join(dir_path, name))"
   ]
  },
  {
   "cell_type": "code",
   "execution_count": 10,
   "metadata": {},
   "outputs": [],
   "source": [
    "def print_tree(dir_path):\n",
    "    for name in os.listdir(dir_path):\n",
    "        full_path = os.path.join(dir_path, name) \n",
    "        print (full_path)\n",
    "        if os.path.isdir(full_path):\n",
    "            print_tree(full_path)"
   ]
  },
  {
   "cell_type": "code",
   "execution_count": 12,
   "metadata": {},
   "outputs": [
    {
     "name": "stdout",
     "output_type": "stream",
     "text": [
      "./data/pi_digit.txt\n",
      "./data/somefile.txt\n",
      "./data/somefile_line.txt\n",
      "./data/file.csv\n",
      "./data/blah.txt\n",
      "./data/somfile.txt\n"
     ]
    }
   ],
   "source": [
    "'''\n",
    "แสดงรายการไฟล์ภายใต้ไดเรกทอรี\n",
    "'''\n",
    "print_tree('./data/')"
   ]
  },
  {
   "cell_type": "markdown",
   "metadata": {},
   "source": [
    "### การจัดการไฟล์ CSV"
   ]
  },
  {
   "cell_type": "code",
   "execution_count": 13,
   "metadata": {},
   "outputs": [
    {
     "name": "stdout",
     "output_type": "stream",
     "text": [
      "['01/01/2016', ' 4']\n",
      "['02/01/2016', ' 2']\n",
      "['03/01/2016', ' 10']\n",
      "['04/01/2016', ' 8']\n"
     ]
    }
   ],
   "source": [
    "'''\n",
    "การอ่านไฟล์ CSV ด้วยไพธอน\n",
    "'''\n",
    "import csv\n",
    " \n",
    "with open('./data/file.csv') as csvDataFile:\n",
    "    csvReader = csv.reader(csvDataFile)\n",
    "    for row in csvReader:\n",
    "        print(row)"
   ]
  },
  {
   "cell_type": "code",
   "execution_count": 61,
   "metadata": {},
   "outputs": [
    {
     "name": "stdout",
     "output_type": "stream",
     "text": [
      "['01/01/2016', '02/01/2016', '03/01/2016', '04/01/2016']\n",
      "[' 4', ' 2', ' 10', ' 8']\n"
     ]
    }
   ],
   "source": [
    "import csv\n",
    " \n",
    "dates = []\n",
    "scores = []\n",
    " \n",
    "with open('./data/file.csv') as csvDataFile:\n",
    "    csvReader = csv.reader(csvDataFile)\n",
    "    for row in csvReader:\n",
    "        dates.append(row[0])\n",
    "        scores.append(row[1])\n",
    " \n",
    "print(dates)\n",
    "print(scores)"
   ]
  },
  {
   "cell_type": "code",
   "execution_count": 16,
   "metadata": {},
   "outputs": [
    {
     "name": "stdout",
     "output_type": "stream",
     "text": [
      "Writing complete\n"
     ]
    }
   ],
   "source": [
    "'''\n",
    "ตัวอย่างการเขียนไฟล์ด้วยภาษาไพธอน\n",
    "'''\n",
    "\n",
    "import csv\n",
    " \n",
    "myData = [[\"first_name\", \"second_name\", \"Grade\"],\n",
    "          ['Alex', 'Brian', 'A'],\n",
    "          ['Tom', 'Smith', 'B']]\n",
    " \n",
    "with open('./data/example2.csv', 'w') as myFile:\n",
    "    writer = csv.writer(myFile)\n",
    "    writer.writerows(myData)\n",
    "     \n",
    "print(\"Writing complete\")"
   ]
  },
  {
   "cell_type": "code",
   "execution_count": 71,
   "metadata": {},
   "outputs": [
    {
     "name": "stdout",
     "output_type": "stream",
     "text": [
      "01SymptomWordList.py\n"
     ]
    }
   ],
   "source": [
    "full_path = 'C:\\\\Program Files\\\\Python24\\\\Lib\\\\test.txt'\n",
    "path, filename = os.path.split(full_path)\n",
    "print(filename)"
   ]
  },
  {
   "cell_type": "code",
   "execution_count": null,
   "metadata": {},
   "outputs": [],
   "source": []
  }
 ],
 "metadata": {
  "interpreter": {
   "hash": "455538e6bfb8d33823b5d93150bf39bd2c6944e2bdab44f94be600b6fed7401c"
  },
  "kernelspec": {
   "display_name": "Python 3",
   "language": "python",
   "name": "python3"
  },
  "language_info": {
   "codemirror_mode": {
    "name": "ipython",
    "version": 3
   },
   "file_extension": ".py",
   "mimetype": "text/x-python",
   "name": "python",
   "nbconvert_exporter": "python",
   "pygments_lexer": "ipython3",
   "version": "3.7.6"
  }
 },
 "nbformat": 4,
 "nbformat_minor": 4
}
