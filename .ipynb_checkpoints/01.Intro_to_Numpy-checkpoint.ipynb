{
 "cells": [
  {
   "cell_type": "markdown",
   "metadata": {},
   "source": [
    "# การใช้งาน Numpy เบื้องต้น\n",
    "\n",
    "## รายวิชาการประมวลผลข้อมูลขนาดใหญ่\n",
    "### ผู้ช่วยศาสตราจารย์พิศาล สุขขี\n",
    "สาขาวิทยาการคอมพิวเตอร์, มหาวิทยาลัยราชภัฏศรีสะเกษ"
   ]
  },
  {
   "cell_type": "markdown",
   "metadata": {},
   "source": [
    "<hr />"
   ]
  },
  {
   "cell_type": "code",
   "execution_count": null,
   "metadata": {},
   "outputs": [],
   "source": [
    "import matplotlib.pyplot as plt\n",
    "import numpy as np\n",
    "np.__version__"
   ]
  },
  {
   "cell_type": "markdown",
   "metadata": {},
   "source": [
    "## ความแตกต่างระหว่าง Numpy และ List"
   ]
  },
  {
   "cell_type": "code",
   "execution_count": null,
   "metadata": {},
   "outputs": [],
   "source": [
    "# สร้างลิสต์\n",
    "gpas_as_list = [4.0, 3.286, 3.5]"
   ]
  },
  {
   "cell_type": "code",
   "execution_count": null,
   "metadata": {},
   "outputs": [],
   "source": [
    "# สามารถเพิ่มข้อมูลเข้าไปในลิสต์ได้\n",
    "gpas_as_list.append(4.0)\n",
    "\n",
    "# ภายในลิสต์สามารถเก็บข้อมูลที่มีชนิตแตกต่างกันได้\n",
    "gpas_as_list.insert(1, \"Whatevs\")\n",
    "\n",
    "# แสดงผลลิสต์\n",
    "gpas_as_list"
   ]
  },
  {
   "cell_type": "code",
   "execution_count": null,
   "metadata": {},
   "outputs": [],
   "source": [
    "# สามารถนำข้อมูลออกจากลิสต์ได้\n",
    "gpas_as_list.pop(1)"
   ]
  },
  {
   "cell_type": "code",
   "execution_count": null,
   "metadata": {},
   "outputs": [],
   "source": [
    "# แสดงผลลิสต์\n",
    "gpas_as_list"
   ]
  },
  {
   "cell_type": "code",
   "execution_count": null,
   "metadata": {},
   "outputs": [],
   "source": [
    "# การสร้าง Numpy Array จาก List\n",
    "gpas = np.array(gpas_as_list)\n",
    "\n",
    "gpas.dtype"
   ]
  },
  {
   "cell_type": "code",
   "execution_count": null,
   "metadata": {},
   "outputs": [],
   "source": [
    "# ขนาดของ element เพียงหนึ่งตัวภายใน array\n",
    "gpas.itemsize"
   ]
  },
  {
   "cell_type": "code",
   "execution_count": null,
   "metadata": {},
   "outputs": [],
   "source": [
    "# จำนวน element ทั้งหมด\n",
    "gpas.size"
   ]
  },
  {
   "cell_type": "code",
   "execution_count": null,
   "metadata": {},
   "outputs": [],
   "source": [
    "# จำนวน element ทั้งหมด\n",
    "len(gpas)"
   ]
  },
  {
   "cell_type": "code",
   "execution_count": null,
   "metadata": {},
   "outputs": [],
   "source": [
    "gpas"
   ]
  },
  {
   "cell_type": "code",
   "execution_count": null,
   "metadata": {},
   "outputs": [],
   "source": [
    "# จำนวนไบต์ที่ element ใข้ใน array\n",
    "gpas.nbytes"
   ]
  },
  {
   "cell_type": "markdown",
   "metadata": {},
   "source": [
    "<hr />"
   ]
  },
  {
   "cell_type": "markdown",
   "metadata": {},
   "source": [
    "## การสร้างอะเรย์หลายมิติ (Multidimensional Arrays)\n",
    "### Numpy ndarray"
   ]
  },
  {
   "cell_type": "code",
   "execution_count": null,
   "metadata": {},
   "outputs": [],
   "source": [
    "# สร้าง ndarray\n",
    "students_gpas = np.array(\n",
    "    [\n",
    "        [4.0, 3.286, 3.5, 4.0],\n",
    "        [3.2, 3.8, 4.0, 4.0],\n",
    "        [3.96, 3.92, 4.0, 4.0]\n",
    "    ], \n",
    "    np.float16)\n",
    "\n",
    "students_gpas"
   ]
  },
  {
   "cell_type": "code",
   "execution_count": null,
   "metadata": {},
   "outputs": [],
   "source": [
    "# แสดงจำนวนมิติของ array ที่สร้างขึ้น\n",
    "students_gpas.ndim"
   ]
  },
  {
   "cell_type": "code",
   "execution_count": null,
   "metadata": {},
   "outputs": [],
   "source": [
    "# แสดงจำนวน แถว และ คอลัมน์ ของ array ที่สร้างขึ้น\n",
    "students_gpas.shape"
   ]
  },
  {
   "cell_type": "code",
   "execution_count": null,
   "metadata": {},
   "outputs": [],
   "source": [
    "# แสดงจำนวน element ทั้งหมดของ array ที่สร้างขึ้น\n",
    "students_gpas.size"
   ]
  },
  {
   "cell_type": "code",
   "execution_count": null,
   "metadata": {},
   "outputs": [],
   "source": [
    "students_gpas.itemsize * students_gpas.size"
   ]
  },
  {
   "cell_type": "code",
   "execution_count": null,
   "metadata": {},
   "outputs": [],
   "source": [
    "# แสดงรายละเอียดของ ndarray ที่สร้างขึ้นทั้งหมด\n",
    "%whos ndarray"
   ]
  },
  {
   "cell_type": "code",
   "execution_count": null,
   "metadata": {},
   "outputs": [],
   "source": [
    "#  แสดงรายละเอียดของ ndarray อย่างละเอียดแบบเจาะจง\n",
    "np.info(students_gpas)"
   ]
  },
  {
   "cell_type": "markdown",
   "metadata": {},
   "source": [
    "## ndarray indexing\n",
    "\n",
    "Numpy มีหลายวิธีในการจัดทำดัชนีลงในอาร์เรย์\n",
    "\n",
    "Slicing: คล้ายกับการดำเนินการในลิสต์ของ Python สามารถแบ่งอาร์เรย์ numpy ได้ เนื่องจากอาร์เรย์อาจเป็นแบบหลายมิติ ผู้ใช้งานต้องระบุตำแหน่งสไลซ์สำหรับแต่ละมิติของอาร์เรย์:"
   ]
  },
  {
   "cell_type": "code",
   "execution_count": null,
   "metadata": {},
   "outputs": [],
   "source": [
    "# แสดงการอ้างอิงค่าของ array ที่สร้างขึ้น\n",
    "# ความสัมพันธ์ระหว่าง a และ b เป็นจะเป็นแบบ reference\n",
    "\n",
    "a = np.array([[1,2,3,4], [5,6,7,8], [9,10,11,12]])\n",
    "b = a[:2, 1:3]"
   ]
  },
  {
   "cell_type": "code",
   "execution_count": null,
   "metadata": {},
   "outputs": [],
   "source": [
    "print(a)"
   ]
  },
  {
   "cell_type": "code",
   "execution_count": null,
   "metadata": {},
   "outputs": [],
   "source": [
    "print(b)"
   ]
  },
  {
   "cell_type": "code",
   "execution_count": null,
   "metadata": {},
   "outputs": [],
   "source": [
    "a[0, 1]"
   ]
  },
  {
   "cell_type": "code",
   "execution_count": null,
   "metadata": {},
   "outputs": [],
   "source": [
    "b[0, 0] = 77\n",
    "\n",
    "# ค่าที่กำหนดให้ b จะส่งผลกระทบต่อค่าที่อ้างอิงจาก a\n",
    "print(b[0, 0])\n",
    "print(a[0, 1])"
   ]
  },
  {
   "cell_type": "markdown",
   "metadata": {},
   "source": [
    "คุณยังสามารถผสมการจัดทำดัชนีจำนวนเต็มกับการจัดทำดัชนีสไลซ์ อย่างไรก็ตาม \n",
    "\n",
    "การทำเช่นนี้จะทำให้อาร์เรย์มีลำดับต่ำกว่าอาร์เรย์ดั้งเดิม โปรดทราบว่าสิ่งนี้ค่อนข้างแตกต่างจากวิธีที่ MATLAB จัดการกับการแบ่งอาร์เรย์:"
   ]
  },
  {
   "cell_type": "code",
   "execution_count": null,
   "metadata": {},
   "outputs": [],
   "source": [
    "# ทำการสร้างอะเรย์ 2 มิติที่มีขนาดเท่ากับ (3, 4)\n",
    "# [[ 1  2  3  4]\n",
    "#  [ 5  6  7  8]\n",
    "#  [ 9 10 11 12]]\n",
    "a = np.array([[1,2,3,4], [5,6,7,8], [9,10,11,12]])\n",
    "\n",
    "# มี 2 วิธีสำหรับการเข้าถึงข้อมูลที่อยู่ภายในอะเรย์\n",
    "# ตัวอย่างด้านล่างเป็นการผสมการเข้าถึงข้อมูลที่อยู่ภายในอะเรย์ด้วยการกำหนดดัชนีแบบจำนวนเต็ม ร่วมกับการ slicing\n",
    "row_r1 = a[1, :]    # Rank 1 view of the second row of a\n",
    "row_r2 = a[1:2, :]  # Rank 2 view of the second row of a\n",
    "print(row_r1, row_r1.shape)  # Prints \"[5 6 7 8] (4,)\"\n",
    "print(row_r2, row_r2.shape)  # Prints \"[[5 6 7 8]] (1, 4)\"\n",
    "\n",
    "# We can make the same distinction when accessing columns of an array:\n",
    "col_r1 = a[:, 1]\n",
    "col_r2 = a[:, 1:2]\n",
    "\n",
    "print(col_r1, col_r1.shape)  # Prints \"[ 2  6 10] (3,)\"\n",
    "print(col_r2, col_r2.shape)  # Prints \"[[ 2]\n",
    "                             #          [ 6]\n",
    "                             #          [10]] (3, 1)\""
   ]
  },
  {
   "cell_type": "code",
   "execution_count": null,
   "metadata": {},
   "outputs": [],
   "source": [
    "a = np.array([[1,2], [3, 4], [5, 6]])\n",
    "\n",
    "print(a, \"\\n\")\n",
    "\n",
    "# ตัวย่างการใช้ดัชนีในรูปแบบอะเรย์\n",
    "# The returned array will have shape (3,) and\n",
    "print(a[[0, 1, 2], [0, 1, 0]])  # Prints \"[1 4 5]\"\n",
    "\n",
    "print(np.array([a[0, 0], a[1, 1], a[2, 0]]))  # Prints \"[1 4 5]\"\n",
    "\n",
    "# When using integer array indexing, you can reuse the same\n",
    "# element from the source array:\n",
    "print(a[[0, 0], [1, 1]])  # Prints \"[2 2]\"\n",
    "\n",
    "# Equivalent to the previous integer array indexing example\n",
    "print(np.array([a[0, 1], a[0, 1]]))  # Prints \"[2 2]\""
   ]
  },
  {
   "cell_type": "code",
   "execution_count": null,
   "metadata": {},
   "outputs": [],
   "source": [
    "a = np.array([[1,2,3], [4,5,6], [7,8,9], [10, 11, 12]])\n",
    "print(a)\n",
    "\n",
    "# Create an array of indices\n",
    "b = np.array([0, 2, 0, 1])\n",
    "print(b)\n",
    "\n",
    "print(a[np.arange(4), b]) # Prints \"[ 1  6  7 11]\""
   ]
  },
  {
   "cell_type": "markdown",
   "metadata": {},
   "source": [
    "## ประเภทข้อมูล\n",
    "\n",
    "ในทุก ๆ Numpy Array เป็นตารางขององค์ประกอบประเภทเดียวกัน \n",
    "\n",
    "Numpy มีชุดข้อมูลตัวเลขจำนวนมากที่คุณสามารถใช้สร้างอาร์เรย์ได้ Numpy พยายามเดาประเภทข้อมูลเมื่อคุณสร้างอาร์เรย์ \n",
    "\n",
    "แต่ฟังก์ชันที่สร้างอาร์เรย์มักจะรวมอาร์กิวเมนต์ที่เป็นตัวเลือกเพื่อระบุประเภทข้อมูลอย่างชัดเจน นี่คือตัวอย่าง:"
   ]
  },
  {
   "cell_type": "code",
   "execution_count": null,
   "metadata": {},
   "outputs": [],
   "source": [
    "x = np.array([1, 2])   # Let numpy choose the datatype\n",
    "print(x.dtype)         # Prints \"int64\"\n",
    "\n",
    "x = np.array([1.0, 2.0])   # Let numpy choose the datatype\n",
    "print(x.dtype)             # Prints \"float64\"\n",
    "\n",
    "x = np.array([1, 2], dtype=np.int64)   # Force a particular datatype\n",
    "print(x.dtype)                 "
   ]
  },
  {
   "cell_type": "markdown",
   "metadata": {},
   "source": [
    "<hr />"
   ]
  },
  {
   "cell_type": "markdown",
   "metadata": {},
   "source": [
    "## ฟังก์ชั่นทางคณิตศาสตร์สำหรับอาร์เรย์\n",
    "\n",
    "ฟังก์ชันทางคณิตศาสตร์พื้นฐานทำงานตามองค์ประกอบบนอาร์เรย์ และมีให้ใช้งานทั้งแบบโอเวอร์โหลดตัวดำเนินการและเป็นฟังก์ชันในโมดูล numpy:"
   ]
  },
  {
   "cell_type": "code",
   "execution_count": null,
   "metadata": {},
   "outputs": [],
   "source": [
    "import numpy as np\n",
    "\n",
    "x = np.array([[1,2],[3,4]], dtype=np.float64)\n",
    "y = np.array([[5,6],[7,8]], dtype=np.float64)\n",
    "\n",
    "# Elementwise sum; both produce the array\n",
    "# [[ 6.0  8.0]\n",
    "#  [10.0 12.0]]\n",
    "print(x + y)\n",
    "print(np.add(x, y))\n",
    "print()\n",
    "\n",
    "# Elementwise difference; both produce the array\n",
    "# [[-4.0 -4.0]\n",
    "#  [-4.0 -4.0]]\n",
    "print(x - y)\n",
    "print(np.subtract(x, y))\n",
    "\n",
    "# Elementwise product; both produce the array\n",
    "# [[ 5.0 12.0]\n",
    "#  [21.0 32.0]]\n",
    "print(x * y)\n",
    "print(np.multiply(x, y))\n",
    "print()\n",
    "\n",
    "# Elementwise division; both produce the array\n",
    "# [[ 0.2         0.33333333]\n",
    "#  [ 0.42857143  0.5       ]]\n",
    "print(x / y)\n",
    "print(np.divide(x, y))\n",
    "print()\n",
    "\n",
    "# Elementwise square root; produces the array\n",
    "# [[ 1.          1.41421356]\n",
    "#  [ 1.73205081  2.        ]]\n",
    "print(np.sqrt(x))"
   ]
  },
  {
   "cell_type": "code",
   "execution_count": null,
   "metadata": {},
   "outputs": [],
   "source": [
    "x = np.array([[1,2],[3,4]])\n",
    "\n",
    "print(np.sum(x))  # Compute sum of all elements; prints \"10\"\n",
    "print(np.sum(x, axis=0))  # Compute sum of each column; prints \"[4 6]\"\n",
    "print(np.sum(x, axis=1))  # Compute sum of each row; prints \"[3 7]\""
   ]
  },
  {
   "cell_type": "markdown",
   "metadata": {},
   "source": [
    "<hr />"
   ]
  },
  {
   "cell_type": "markdown",
   "metadata": {},
   "source": [
    "## การ Transpose"
   ]
  },
  {
   "cell_type": "code",
   "execution_count": null,
   "metadata": {},
   "outputs": [],
   "source": [
    "x = np.array([[1,2], [3,4]])\n",
    "print(x)    # Prints \"[[1 2]\n",
    "            #          [3 4]]\"\n",
    "print(x.T)  # Prints \"[[1 3]\n",
    "            #          [2 4]]\"\n",
    "\n",
    "# Note that taking the transpose of a rank 1 array does nothing:\n",
    "v = np.array([1,2,3])\n",
    "print(v)    # Prints \"[1 2 3]\"\n",
    "print(v.T)  # Prints \"[1 2 3]\""
   ]
  },
  {
   "cell_type": "markdown",
   "metadata": {},
   "source": [
    "<hr>"
   ]
  },
  {
   "cell_type": "markdown",
   "metadata": {},
   "source": [
    "## Broadcasting\n",
    "\n",
    "การ Broadcast เป็นกลไกอันทรงพลังที่ช่วยให้ numpy ทำงานกับอาร์เรย์ที่มีรูปร่างต่างกันได้\n",
    "\n",
    "เมื่อดำเนินการคำนวณทางคณิตศาสตร์ บ่อยครั้งที่เรามีอาร์เรย์ที่เล็กกว่าและอาร์เรย์ที่ใหญ่กว่า \n",
    "\n",
    "และเราต้องการใช้อาร์เรย์ที่เล็กกว่าหลายครั้งเพื่อดำเนินการบางอย่างกับอาร์เรย์ที่ใหญ่กว่า"
   ]
  },
  {
   "cell_type": "code",
   "execution_count": null,
   "metadata": {},
   "outputs": [],
   "source": [
    "# We will add the vector v to each row of the matrix x,\n",
    "# storing the result in the matrix y\n",
    "x = np.array([[1,2,3], [4,5,6], [7,8,9], [10, 11, 12]])\n",
    "v = np.array([1, 0, 1])\n",
    "y = np.empty_like(x)   # ทำการสร้างเมทริกซ์เปล่าที่มีขนาดเท่ากับ x\n",
    "\n",
    "# ดำเนินการบวกเวกเตอร์ v กับทุก ๆ ในเมทริกซ์ x โดยไม่มีการปรับขนาดของ x\n",
    "for i in range(4):\n",
    "    y[i, :] = x[i, :] + v\n",
    "\n",
    "# ข้อมูลปัจจุบันของ y คือ\n",
    "# [[ 2  2  4]\n",
    "#  [ 5  5  7]\n",
    "#  [ 8  8 10]\n",
    "#  [11 11 13]]\n",
    "print(y)"
   ]
  },
  {
   "cell_type": "markdown",
   "metadata": {},
   "source": [
    "จากตัวอย่างด้านบน !!\n",
    "เป็นการใช้ Loop For สำหรับวนรอบเพื่อดำเนินการกับแต่ละแถวของเมทริกซ์ x ด้วยเวกตอร์ y\n",
    "\n",
    "ตัวอย่างด้านล่างนี้เป็นอีกหนึ่งวิธีที่ให้ผลลัพธ์เหมือนกันกันแต่ไม่ต้องใช้ Loop For"
   ]
  },
  {
   "cell_type": "code",
   "execution_count": null,
   "metadata": {},
   "outputs": [],
   "source": [
    "# We will add the vector v to each row of the matrix x,\n",
    "# storing the result in the matrix y\n",
    "x = np.array([[1,2,3], [4,5,6], [7,8,9], [10, 11, 12]])\n",
    "v = np.array([1, 0, 1])\n",
    "vv = np.tile(v, (4, 1))   # Stack 4 copies of v on top of each other\n",
    "print(vv)                 # Prints \"[[1 0 1]\n",
    "                          #          [1 0 1]\n",
    "                          #          [1 0 1]\n",
    "                          #          [1 0 1]]\"\n",
    "                          \n",
    "y = x + vv  # Add x and vv elementwise\n",
    "print(y)  # Prints \"[[ 2  2  4\n",
    "          #          [ 5  5  7]\n",
    "          #          [ 8  8 10]\n",
    "          #          [11 11 13]]\""
   ]
  },
  {
   "cell_type": "markdown",
   "metadata": {},
   "source": [
    "ตัวอย่างด้านล่างนี้ !! \n",
    "\n",
    "แสดงให้เห็นว่า Numpy Broadcasting ช่วยให้เราสามารถคำนวณได้โดยไม่ต้องสร้าง v หลายชุด พิจารณาเวอร์ชันนี้โดยใช้การ Boardcasting:"
   ]
  },
  {
   "cell_type": "code",
   "execution_count": null,
   "metadata": {},
   "outputs": [],
   "source": [
    "# We will add the vector v to each row of the matrix x,\n",
    "# storing the result in the matrix y\n",
    "x = np.array([[1,2,3], [4,5,6], [7,8,9], [10, 11, 12]])\n",
    "v = np.array([1, 0, 1])\n",
    "\n",
    "y = x + v  # Add v to each row of x using broadcasting\n",
    "print(y)  # Prints \"[[ 2  2  4]\n",
    "          #          [ 5  5  7]\n",
    "          #          [ 8  8 10]\n",
    "          #          [11 11 13]]\""
   ]
  },
  {
   "cell_type": "code",
   "execution_count": null,
   "metadata": {},
   "outputs": [],
   "source": []
  }
 ],
 "metadata": {
  "interpreter": {
   "hash": "455538e6bfb8d33823b5d93150bf39bd2c6944e2bdab44f94be600b6fed7401c"
  },
  "kernelspec": {
   "display_name": "Python 3",
   "language": "python",
   "name": "python3"
  },
  "language_info": {
   "codemirror_mode": {
    "name": "ipython",
    "version": 3
   },
   "file_extension": ".py",
   "mimetype": "text/x-python",
   "name": "python",
   "nbconvert_exporter": "python",
   "pygments_lexer": "ipython3",
   "version": "3.7.6"
  }
 },
 "nbformat": 4,
 "nbformat_minor": 2
}
